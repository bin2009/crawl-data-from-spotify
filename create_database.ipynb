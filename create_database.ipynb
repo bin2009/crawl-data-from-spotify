{
 "cells": [
  {
   "cell_type": "code",
   "execution_count": 2,
   "metadata": {},
   "outputs": [],
   "source": [
    "import pandas as pd"
   ]
  },
  {
   "cell_type": "code",
   "execution_count": 2,
   "metadata": {},
   "outputs": [
    {
     "data": {
      "text/html": [
       "<div>\n",
       "<style scoped>\n",
       "    .dataframe tbody tr th:only-of-type {\n",
       "        vertical-align: middle;\n",
       "    }\n",
       "\n",
       "    .dataframe tbody tr th {\n",
       "        vertical-align: top;\n",
       "    }\n",
       "\n",
       "    .dataframe thead th {\n",
       "        text-align: right;\n",
       "    }\n",
       "</style>\n",
       "<table border=\"1\" class=\"dataframe\">\n",
       "  <thead>\n",
       "    <tr style=\"text-align: right;\">\n",
       "      <th></th>\n",
       "      <th>AlbumID</th>\n",
       "      <th>Album</th>\n",
       "      <th>ReleaseDate</th>\n",
       "      <th>Artists</th>\n",
       "      <th>AlbumType</th>\n",
       "      <th>TotalTracks</th>\n",
       "      <th>AlbumImage</th>\n",
       "      <th>TrackID</th>\n",
       "      <th>TrackName</th>\n",
       "      <th>ArtistsName</th>\n",
       "      <th>DiscNumber</th>\n",
       "      <th>TrackNumber</th>\n",
       "      <th>TrackDuration</th>\n",
       "      <th>PreviewUrl</th>\n",
       "      <th>audio_path</th>\n",
       "    </tr>\n",
       "  </thead>\n",
       "  <tbody>\n",
       "    <tr>\n",
       "      <th>0</th>\n",
       "      <td>7FbJRg2IYkVJioqMayEukG</td>\n",
       "      <td>Qua Khung Cửa Sổ</td>\n",
       "      <td>2021-05-05</td>\n",
       "      <td>Chillies (ID: 2xvW7dgL1640K8exTcRMS4)</td>\n",
       "      <td>album</td>\n",
       "      <td>10</td>\n",
       "      <td>https://i.scdn.co/image/ab67616d0000b2734a5c0d...</td>\n",
       "      <td>5xfeQsy7aUdM1pHvTRZMDI</td>\n",
       "      <td>Bao Nhiêu</td>\n",
       "      <td>Chillies (ID: 2xvW7dgL1640K8exTcRMS4)</td>\n",
       "      <td>1</td>\n",
       "      <td>1</td>\n",
       "      <td>229666</td>\n",
       "      <td>https://p.scdn.co/mp3-preview/4313d89acf73967b...</td>\n",
       "      <td>https://audiomelodies.nyc3.digitaloceanspaces....</td>\n",
       "    </tr>\n",
       "  </tbody>\n",
       "</table>\n",
       "</div>"
      ],
      "text/plain": [
       "                  AlbumID             Album ReleaseDate  \\\n",
       "0  7FbJRg2IYkVJioqMayEukG  Qua Khung Cửa Sổ  2021-05-05   \n",
       "\n",
       "                                 Artists AlbumType  TotalTracks  \\\n",
       "0  Chillies (ID: 2xvW7dgL1640K8exTcRMS4)     album           10   \n",
       "\n",
       "                                          AlbumImage                 TrackID  \\\n",
       "0  https://i.scdn.co/image/ab67616d0000b2734a5c0d...  5xfeQsy7aUdM1pHvTRZMDI   \n",
       "\n",
       "   TrackName                            ArtistsName  DiscNumber  TrackNumber  \\\n",
       "0  Bao Nhiêu  Chillies (ID: 2xvW7dgL1640K8exTcRMS4)           1            1   \n",
       "\n",
       "   TrackDuration                                         PreviewUrl  \\\n",
       "0         229666  https://p.scdn.co/mp3-preview/4313d89acf73967b...   \n",
       "\n",
       "                                          audio_path  \n",
       "0  https://audiomelodies.nyc3.digitaloceanspaces....  "
      ]
     },
     "execution_count": 2,
     "metadata": {},
     "output_type": "execute_result"
    }
   ],
   "source": [
    "df = pd.read_csv('D:/05-DUT/NAM4-KI1/PBL6/Crawl/Merge/Chillies.csv')\n",
    "df.head(1)"
   ]
  },
  {
   "cell_type": "code",
   "execution_count": 3,
   "metadata": {},
   "outputs": [
    {
     "name": "stdout",
     "output_type": "stream",
     "text": [
      "Index(['AlbumID', 'Album', 'ReleaseDate', 'Artists', 'AlbumType',\n",
      "       'TotalTracks', 'AlbumImage', 'TrackID', 'TrackName', 'ArtistsName',\n",
      "       'DiscNumber', 'TrackNumber', 'TrackDuration', 'PreviewUrl',\n",
      "       'audio_path'],\n",
      "      dtype='object')\n"
     ]
    }
   ],
   "source": [
    "print(df.columns)"
   ]
  },
  {
   "cell_type": "markdown",
   "metadata": {},
   "source": [
    "### Album\n"
   ]
  },
  {
   "cell_type": "code",
   "execution_count": 27,
   "metadata": {},
   "outputs": [
    {
     "data": {
      "text/html": [
       "<div>\n",
       "<style scoped>\n",
       "    .dataframe tbody tr th:only-of-type {\n",
       "        vertical-align: middle;\n",
       "    }\n",
       "\n",
       "    .dataframe tbody tr th {\n",
       "        vertical-align: top;\n",
       "    }\n",
       "\n",
       "    .dataframe thead th {\n",
       "        text-align: right;\n",
       "    }\n",
       "</style>\n",
       "<table border=\"1\" class=\"dataframe\">\n",
       "  <thead>\n",
       "    <tr style=\"text-align: right;\">\n",
       "      <th></th>\n",
       "      <th>AlbumID</th>\n",
       "      <th>Album</th>\n",
       "      <th>ReleaseDate</th>\n",
       "      <th>AlbumImage</th>\n",
       "      <th>AlbumType</th>\n",
       "    </tr>\n",
       "  </thead>\n",
       "  <tbody>\n",
       "    <tr>\n",
       "      <th>0</th>\n",
       "      <td>7FbJRg2IYkVJioqMayEukG</td>\n",
       "      <td>Qua Khung Cửa Sổ</td>\n",
       "      <td>2021-05-05</td>\n",
       "      <td>https://i.scdn.co/image/ab67616d0000b2734a5c0d...</td>\n",
       "      <td>album</td>\n",
       "    </tr>\n",
       "    <tr>\n",
       "      <th>10</th>\n",
       "      <td>02NJ8bzgtfdFCjtugWxqU3</td>\n",
       "      <td>Cơn Mưa Rào Đầu Tiên (from \"Mùa Hè Đẹp Nhất\")</td>\n",
       "      <td>2024-06-30</td>\n",
       "      <td>https://i.scdn.co/image/ab67616d0000b273612e4a...</td>\n",
       "      <td>single</td>\n",
       "    </tr>\n",
       "    <tr>\n",
       "      <th>11</th>\n",
       "      <td>5ysXBJHiqhcE5Pw8p1XDia</td>\n",
       "      <td>Đại Lộ Mặt Trời</td>\n",
       "      <td>2024-01-04</td>\n",
       "      <td>https://i.scdn.co/image/ab67616d0000b273249abe...</td>\n",
       "      <td>EP</td>\n",
       "    </tr>\n",
       "    <tr>\n",
       "      <th>13</th>\n",
       "      <td>10iLcoMKkITSroCcStXUTK</td>\n",
       "      <td>Có Em Đời Bỗng Vui</td>\n",
       "      <td>2023-06-27</td>\n",
       "      <td>https://i.scdn.co/image/ab67616d0000b2732ba0ae...</td>\n",
       "      <td>single</td>\n",
       "    </tr>\n",
       "    <tr>\n",
       "      <th>14</th>\n",
       "      <td>1ds7bOlVzPrP64m8Fyz1Tk</td>\n",
       "      <td>đưa em về nhàa</td>\n",
       "      <td>2023-04-24</td>\n",
       "      <td>https://i.scdn.co/image/ab67616d0000b273f5f1c7...</td>\n",
       "      <td>single</td>\n",
       "    </tr>\n",
       "  </tbody>\n",
       "</table>\n",
       "</div>"
      ],
      "text/plain": [
       "                   AlbumID                                          Album  \\\n",
       "0   7FbJRg2IYkVJioqMayEukG                               Qua Khung Cửa Sổ   \n",
       "10  02NJ8bzgtfdFCjtugWxqU3  Cơn Mưa Rào Đầu Tiên (from \"Mùa Hè Đẹp Nhất\")   \n",
       "11  5ysXBJHiqhcE5Pw8p1XDia                                Đại Lộ Mặt Trời   \n",
       "13  10iLcoMKkITSroCcStXUTK                             Có Em Đời Bỗng Vui   \n",
       "14  1ds7bOlVzPrP64m8Fyz1Tk                                 đưa em về nhàa   \n",
       "\n",
       "   ReleaseDate                                         AlbumImage AlbumType  \n",
       "0   2021-05-05  https://i.scdn.co/image/ab67616d0000b2734a5c0d...     album  \n",
       "10  2024-06-30  https://i.scdn.co/image/ab67616d0000b273612e4a...    single  \n",
       "11  2024-01-04  https://i.scdn.co/image/ab67616d0000b273249abe...        EP  \n",
       "13  2023-06-27  https://i.scdn.co/image/ab67616d0000b2732ba0ae...    single  \n",
       "14  2023-04-24  https://i.scdn.co/image/ab67616d0000b273f5f1c7...    single  "
      ]
     },
     "execution_count": 27,
     "metadata": {},
     "output_type": "execute_result"
    }
   ],
   "source": [
    "unique_ids = df.drop_duplicates(subset=['AlbumID'])\n",
    "album = unique_ids[['AlbumID', 'Album', 'ReleaseDate', 'AlbumImage', 'AlbumType']]\n",
    "album.head()"
   ]
  },
  {
   "cell_type": "code",
   "execution_count": 28,
   "metadata": {},
   "outputs": [],
   "source": [
    "\n",
    "insert_sql = 'INSERT INTO \"Album\" (\"albumId\", \"title\", \"releaseDate\", \"albumType\", \"createdAt\", \"updatedAt\") VALUES\\n'\n",
    "\n",
    "values = []\n",
    "for index, row in album.iterrows():\n",
    "    values.append(f\"('{row['AlbumID']}', '{row['Album']}', '{row['ReleaseDate']}', '{row['AlbumType'].lower()}', NOW(), NOW())\")\n",
    "\n",
    "insert_sql += \",\\n\".join(values) + \";\"\n",
    "\n",
    "\n",
    "sql_file_path = 'D:/05-DUT/NAM4-KI1/PBL6/Crawl/SQL/album.sql'  # Thay đổi thành đường dẫn thực tế của bạn\n",
    "\n",
    "with open(sql_file_path, 'w',  encoding='utf-8') as file:\n",
    "    file.write(insert_sql)"
   ]
  },
  {
   "cell_type": "markdown",
   "metadata": {},
   "source": [
    "### ALBUM IMAGE\n"
   ]
  },
  {
   "cell_type": "code",
   "execution_count": null,
   "metadata": {},
   "outputs": [],
   "source": [
    "unique_ids = df.drop_duplicates(subset=['AlbumID'])\n",
    "album_image = unique_ids[['AlbumID', 'AlbumImage']]\n",
    "# album_image.head()\n",
    "\n",
    "# https://i.scdn.co/image/ab67616d0000b2734a5c0d176134cb5ab9db4924 (size: 640) || https://i.scdn.co/image/ab67616d00001e024a5c0d176134cb5ab9db4924 (size: 300) || https://i.scdn.co/image/ab67616d000048514a5c0d176134cb5ab9db4924 (size: 64)"
   ]
  },
  {
   "cell_type": "code",
   "execution_count": 71,
   "metadata": {},
   "outputs": [
    {
     "ename": "NameError",
     "evalue": "name 'album_image' is not defined",
     "output_type": "error",
     "traceback": [
      "\u001b[1;31m---------------------------------------------------------------------------\u001b[0m",
      "\u001b[1;31mNameError\u001b[0m                                 Traceback (most recent call last)",
      "Cell \u001b[1;32mIn[71], line 5\u001b[0m\n\u001b[0;32m      2\u001b[0m insert_sql \u001b[38;5;241m=\u001b[39m \u001b[38;5;124m'\u001b[39m\u001b[38;5;124mINSERT INTO \u001b[39m\u001b[38;5;124m\"\u001b[39m\u001b[38;5;124mAlbumImage\u001b[39m\u001b[38;5;124m\"\u001b[39m\u001b[38;5;124m (\u001b[39m\u001b[38;5;124m\"\u001b[39m\u001b[38;5;124malbumId\u001b[39m\u001b[38;5;124m\"\u001b[39m\u001b[38;5;124m, \u001b[39m\u001b[38;5;124m\"\u001b[39m\u001b[38;5;124mimage\u001b[39m\u001b[38;5;124m\"\u001b[39m\u001b[38;5;124m, \u001b[39m\u001b[38;5;124m\"\u001b[39m\u001b[38;5;124msize\u001b[39m\u001b[38;5;124m\"\u001b[39m\u001b[38;5;124m, \u001b[39m\u001b[38;5;124m\"\u001b[39m\u001b[38;5;124mcreatedAt\u001b[39m\u001b[38;5;124m\"\u001b[39m\u001b[38;5;124m, \u001b[39m\u001b[38;5;124m\"\u001b[39m\u001b[38;5;124mupdatedAt\u001b[39m\u001b[38;5;124m\"\u001b[39m\u001b[38;5;124m) VALUES\u001b[39m\u001b[38;5;130;01m\\n\u001b[39;00m\u001b[38;5;124m'\u001b[39m\n\u001b[0;32m      4\u001b[0m values \u001b[38;5;241m=\u001b[39m []\n\u001b[1;32m----> 5\u001b[0m \u001b[38;5;28;01mfor\u001b[39;00m index, row \u001b[38;5;129;01min\u001b[39;00m \u001b[43malbum_image\u001b[49m\u001b[38;5;241m.\u001b[39miterrows():\n\u001b[0;32m      6\u001b[0m     \u001b[38;5;66;03m# print(row['AlbumImage'])\u001b[39;00m\n\u001b[0;32m      7\u001b[0m     images \u001b[38;5;241m=\u001b[39m row[\u001b[38;5;124m'\u001b[39m\u001b[38;5;124mAlbumImage\u001b[39m\u001b[38;5;124m'\u001b[39m]\u001b[38;5;241m.\u001b[39msplit(\u001b[38;5;124m'\u001b[39m\u001b[38;5;124m||\u001b[39m\u001b[38;5;124m'\u001b[39m)\n\u001b[0;32m      9\u001b[0m     \u001b[38;5;28;01mfor\u001b[39;00m img \u001b[38;5;129;01min\u001b[39;00m images:\n",
      "\u001b[1;31mNameError\u001b[0m: name 'album_image' is not defined"
     ]
    }
   ],
   "source": [
    "\n",
    "insert_sql = 'INSERT INTO \"AlbumImage\" (\"albumId\", \"image\", \"size\", \"createdAt\", \"updatedAt\") VALUES\\n'\n",
    "\n",
    "values = []\n",
    "for index, row in album_image.iterrows():\n",
    "    # print(row['AlbumImage'])\n",
    "    images = row['AlbumImage'].split('||')\n",
    "\n",
    "    for img in images:\n",
    "        img = img.split('(')\n",
    "        img_url = img[0].strip()\n",
    "        # print(img_url)\n",
    "        img_size = img[1].strip().split(')')[0].strip().split('size:')[1].strip()\n",
    "        # print(img_size)\n",
    "    # print(image_link)\n",
    "        values.append(f\"('{row['AlbumID']}', '{img_url}', '{img_size}', NOW(), NOW())\")\n",
    "\n",
    "insert_sql += \",\\n\".join(values) + \";\"\n",
    "\n",
    "\n",
    "sql_file_path = 'D:/05-DUT/NAM4-KI1/PBL6/Crawl/SQL/album_image.sql'  # Thay đổi thành đường dẫn thực tế của bạn\n",
    "\n",
    "with open(sql_file_path, 'w',  encoding='utf-8') as file:\n",
    "    file.write(insert_sql)"
   ]
  },
  {
   "cell_type": "markdown",
   "metadata": {},
   "source": [
    "### SONG\n"
   ]
  },
  {
   "cell_type": "code",
   "execution_count": 90,
   "metadata": {},
   "outputs": [
    {
     "data": {
      "text/html": [
       "<div>\n",
       "<style scoped>\n",
       "    .dataframe tbody tr th:only-of-type {\n",
       "        vertical-align: middle;\n",
       "    }\n",
       "\n",
       "    .dataframe tbody tr th {\n",
       "        vertical-align: top;\n",
       "    }\n",
       "\n",
       "    .dataframe thead th {\n",
       "        text-align: right;\n",
       "    }\n",
       "</style>\n",
       "<table border=\"1\" class=\"dataframe\">\n",
       "  <thead>\n",
       "    <tr style=\"text-align: right;\">\n",
       "      <th></th>\n",
       "      <th>TrackID</th>\n",
       "      <th>AlbumID</th>\n",
       "      <th>TrackName</th>\n",
       "      <th>TrackDuration</th>\n",
       "      <th>audio_path</th>\n",
       "    </tr>\n",
       "  </thead>\n",
       "  <tbody>\n",
       "    <tr>\n",
       "      <th>0</th>\n",
       "      <td>5xfeQsy7aUdM1pHvTRZMDI</td>\n",
       "      <td>7FbJRg2IYkVJioqMayEukG</td>\n",
       "      <td>Bao Nhiêu</td>\n",
       "      <td>229666</td>\n",
       "      <td>https://audiomelodies.nyc3.digitaloceanspaces....</td>\n",
       "    </tr>\n",
       "    <tr>\n",
       "      <th>1</th>\n",
       "      <td>0JKEP4dB1riE6l7Kq5kJm1</td>\n",
       "      <td>7FbJRg2IYkVJioqMayEukG</td>\n",
       "      <td>Em Đừng Khóc</td>\n",
       "      <td>267230</td>\n",
       "      <td>https://audiomelodies.nyc3.digitaloceanspaces....</td>\n",
       "    </tr>\n",
       "    <tr>\n",
       "      <th>2</th>\n",
       "      <td>0zGOn9WCE4UOUM5Ngeu4kx</td>\n",
       "      <td>7FbJRg2IYkVJioqMayEukG</td>\n",
       "      <td>Giá Như</td>\n",
       "      <td>297000</td>\n",
       "      <td>https://audiomelodies.nyc3.digitaloceanspaces....</td>\n",
       "    </tr>\n",
       "    <tr>\n",
       "      <th>3</th>\n",
       "      <td>6NCBemUJvjspFiLuATSUm3</td>\n",
       "      <td>7FbJRg2IYkVJioqMayEukG</td>\n",
       "      <td>Ms. May (feat. Magazine)</td>\n",
       "      <td>203593</td>\n",
       "      <td>https://audiomelodies.nyc3.digitaloceanspaces....</td>\n",
       "    </tr>\n",
       "    <tr>\n",
       "      <th>4</th>\n",
       "      <td>3H6nzsPNMttEvUl3ai3xN8</td>\n",
       "      <td>7FbJRg2IYkVJioqMayEukG</td>\n",
       "      <td>Vùng Ký Ức</td>\n",
       "      <td>296500</td>\n",
       "      <td>https://audiomelodies.nyc3.digitaloceanspaces....</td>\n",
       "    </tr>\n",
       "  </tbody>\n",
       "</table>\n",
       "</div>"
      ],
      "text/plain": [
       "                  TrackID                 AlbumID                 TrackName  \\\n",
       "0  5xfeQsy7aUdM1pHvTRZMDI  7FbJRg2IYkVJioqMayEukG                 Bao Nhiêu   \n",
       "1  0JKEP4dB1riE6l7Kq5kJm1  7FbJRg2IYkVJioqMayEukG              Em Đừng Khóc   \n",
       "2  0zGOn9WCE4UOUM5Ngeu4kx  7FbJRg2IYkVJioqMayEukG                   Giá Như   \n",
       "3  6NCBemUJvjspFiLuATSUm3  7FbJRg2IYkVJioqMayEukG  Ms. May (feat. Magazine)   \n",
       "4  3H6nzsPNMttEvUl3ai3xN8  7FbJRg2IYkVJioqMayEukG                Vùng Ký Ức   \n",
       "\n",
       "   TrackDuration                                         audio_path  \n",
       "0         229666  https://audiomelodies.nyc3.digitaloceanspaces....  \n",
       "1         267230  https://audiomelodies.nyc3.digitaloceanspaces....  \n",
       "2         297000  https://audiomelodies.nyc3.digitaloceanspaces....  \n",
       "3         203593  https://audiomelodies.nyc3.digitaloceanspaces....  \n",
       "4         296500  https://audiomelodies.nyc3.digitaloceanspaces....  "
      ]
     },
     "execution_count": 90,
     "metadata": {},
     "output_type": "execute_result"
    }
   ],
   "source": [
    "df = pd.read_csv('D:/05-DUT/NAM4-KI1/PBL6/Crawl/Merge/Chillies.csv')\n",
    "# unique_ids = df.drop_duplicates(subset=['TrackID'])\n",
    "tracks = df[['TrackID','AlbumID', 'TrackName', 'TrackDuration', 'audio_path', ]]\n",
    "tracks.head()"
   ]
  },
  {
   "cell_type": "code",
   "execution_count": 94,
   "metadata": {},
   "outputs": [],
   "source": [
    "df = pd.read_csv('D:/05-DUT/NAM4-KI1/PBL6/Crawl/Merge/Chillies.csv')\n",
    "# unique_ids = df.drop_duplicates(subset=['TrackID'])\n",
    "tracks = df[['TrackID','AlbumID', 'TrackName', 'TrackDuration', 'audio_path', ]]\n",
    "insert_sql = 'INSERT INTO \"Song\" (\"id\", \"albumId\", \"title\", \"duration\", \"lyric\", \"filePathAudio\", \"privacy\", \"uploadUserId\", \"createdAt\", \"updatedAt\") VALUES\\n'\n",
    "\n",
    "values = []\n",
    "for index, row in tracks.iterrows():\n",
    "    id = row['TrackID']\n",
    "    albumId = row['AlbumID']\n",
    "    title = row['TrackName']\n",
    "    duration = row['TrackDuration']\n",
    "    lyric = \"lyric\"\n",
    "    filePathAudio = row['audio_path']\n",
    "    privacy = False\n",
    "    uploadUserId = \"Null\"\n",
    "    values.append(f\"('{id}' ,'{albumId}', '{title}', '{duration}', '{lyric}', '{filePathAudio}', '{privacy}', '{uploadUserId}', NOW(), NOW())\")\n",
    "\n",
    "insert_sql += \",\\n\".join(values) + \";\"\n",
    "\n",
    "\n",
    "sql_file_path = 'D:/05-DUT/NAM4-KI1/PBL6/Crawl/SQL/tracks.sql'  # Thay đổi thành đường dẫn thực tế của bạn\n",
    "\n",
    "with open(sql_file_path, 'w',  encoding='utf-8') as file:\n",
    "    file.write(insert_sql)"
   ]
  },
  {
   "cell_type": "markdown",
   "metadata": {},
   "source": [
    "### ARTIST\n"
   ]
  },
  {
   "cell_type": "code",
   "execution_count": 97,
   "metadata": {},
   "outputs": [],
   "source": [
    "df = pd.read_csv('D:/05-DUT/NAM4-KI1/PBL6/Crawl/Data-Artist/inf.csv')\n",
    "\n",
    "unique_ids = df.drop_duplicates(subset=['Artist ID'])\n",
    "artists = unique_ids[['Artist ID', ' Artist Name', ' Popularity', ' Genres', ' Images']]\n",
    "artists.head()\n",
    "insert_sql = 'INSERT INTO \"Artist\" (\"id\", \"name\", \"avatar\", \"bio\", \"createdAt\", \"updatedAt\") VALUES'\n",
    "\n",
    "values = []\n",
    "for index, row in artists.iterrows():\n",
    "    id = row['Artist ID']\n",
    "    name = row[' Artist Name'].strip()\n",
    "    avatar = row[' Images'].split('||')[1].split('(')[0].strip()\n",
    "    bio = 'Null'\n",
    "    values.append(f\"('{id}', '{name}', '{avatar}', '{bio}', NOW(), NOW())\")\n",
    "\n",
    "insert_sql += \",\\n\".join(values) + \";\"\n",
    "\n",
    "\n",
    "sql_file_path = 'D:/05-DUT/NAM4-KI1/PBL6/Crawl/SQL/artists.sql'  # Thay đổi thành đường dẫn thực tế của bạn\n",
    "\n",
    "with open(sql_file_path, 'w',  encoding='utf-8') as file:\n",
    "    file.write(insert_sql)"
   ]
  },
  {
   "cell_type": "markdown",
   "metadata": {},
   "source": [
    "### ARTIST SONG\n"
   ]
  },
  {
   "cell_type": "code",
   "execution_count": 23,
   "metadata": {},
   "outputs": [
    {
     "data": {
      "text/plain": [
       "Index(['AlbumID', 'Album', 'ReleaseDate', 'Artists', 'AlbumType',\n",
       "       'TotalTracks', 'AlbumImage', 'TrackID', 'TrackName', 'ArtistsName',\n",
       "       'DiscNumber', 'TrackNumber', 'TrackDuration', 'PreviewUrl',\n",
       "       'audio_path'],\n",
       "      dtype='object')"
      ]
     },
     "execution_count": 23,
     "metadata": {},
     "output_type": "execute_result"
    }
   ],
   "source": [
    "df = pd.read_csv('D:/05-DUT/NAM4-KI1/PBL6/Crawl/Merge/Chillies.csv')\n",
    "unique_ids = df.drop_duplicates(subset=['TrackID'])\n",
    "artist_song = unique_ids[['AlbumID', 'TrackName', 'TrackDuration', 'audio_path', ]]\n",
    "unique_ids.columns"
   ]
  },
  {
   "cell_type": "code",
   "execution_count": 58,
   "metadata": {},
   "outputs": [],
   "source": [
    "unique_ids = df.drop_duplicates(subset=['TrackID'])\n",
    "artist_song = unique_ids[['TrackID', 'Artists']]\n",
    "artist_song\n",
    "insert_sql = 'INSERT INTO \"ArtistSong\" (\"songId\", \"artistId\", \"main\", \"createdAt\", \"updatedAt\") VALUES\\n'\n",
    "\n",
    "values = []\n",
    "for index, row in artist_song.iterrows():\n",
    "    songId = row['TrackID']\n",
    "    artists = row['Artists'].split('||')\n",
    "    mainId = artists[0].split('(ID:')[1].split(')')[0].strip()\n",
    "    # print(mainId)\n",
    "\n",
    "    main = True\n",
    "    for artist in artists:\n",
    "        # print(artist)\n",
    "        artistId = artist.split('(ID:')[1].split(')')[0].strip()\n",
    "        if artistId == mainId:\n",
    "            main = True\n",
    "        else: main = False\n",
    "\n",
    "        values.append(f\"('{songId}', '{artistId}', '{main}', NOW(), NOW())\")\n",
    "\n",
    "\n",
    "insert_sql += \",\\n\".join(values) + \";\"\n",
    "\n",
    "\n",
    "sql_file_path = 'D:/05-DUT/NAM4-KI1/PBL6/Crawl/SQL/artist_song.sql'  # Thay đổi thành đường dẫn thực tế của bạn\n",
    "\n",
    "with open(sql_file_path, 'w',  encoding='utf-8') as file:\n",
    "    file.write(insert_sql)"
   ]
  },
  {
   "cell_type": "markdown",
   "metadata": {},
   "source": [
    "### Genre\n"
   ]
  },
  {
   "cell_type": "code",
   "execution_count": null,
   "metadata": {},
   "outputs": [],
   "source": []
  },
  {
   "cell_type": "markdown",
   "metadata": {},
   "source": [
    "### Genre artist\n"
   ]
  },
  {
   "cell_type": "code",
   "execution_count": 69,
   "metadata": {},
   "outputs": [],
   "source": [
    "\n",
    "\n",
    "unique_ids = df.drop_duplicates(subset=['Artist ID'])\n",
    "artists = unique_ids[['Artist ID', ' Artist Name', ' Popularity', ' Genres', ' Images']]\n",
    "artists.head()\n",
    "insert_sql = 'INSERT INTO \"Artist\" (\"artistId\", \"genreId\", \"createdAt\", \"updatedAt\") VALUES'\n",
    "\n",
    "values = []\n",
    "for index, row in artists.iterrows():\n",
    "    artistId =  row['Artist ID'].strip()\n",
    "    genres = row[' Genres'].split('||')\n",
    "    for genre in genres:\n",
    "        gen = genre.strip()\n",
    "        # print(gen)\n",
    "\n",
    "    values.append(f\"('{artistId}', '{gen}', NOW(), NOW())\")\n",
    "\n",
    "insert_sql += \",\\n\".join(values) + \";\"\n",
    "\n",
    "\n",
    "sql_file_path = 'D:/05-DUT/NAM4-KI1/PBL6/Crawl/SQL/artist_genre.sql'  # Thay đổi thành đường dẫn thực tế của bạn\n",
    "\n",
    "with open(sql_file_path, 'w',  encoding='utf-8') as file:\n",
    "    file.write(insert_sql)"
   ]
  }
 ],
 "metadata": {
  "kernelspec": {
   "display_name": "Python 3",
   "language": "python",
   "name": "python3"
  },
  "language_info": {
   "codemirror_mode": {
    "name": "ipython",
    "version": 3
   },
   "file_extension": ".py",
   "mimetype": "text/x-python",
   "name": "python",
   "nbconvert_exporter": "python",
   "pygments_lexer": "ipython3",
   "version": "3.12.5"
  }
 },
 "nbformat": 4,
 "nbformat_minor": 2
}
